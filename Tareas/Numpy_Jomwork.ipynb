{
 "cells": [
  {
   "cell_type": "markdown",
   "metadata": {
    "id": "AnjfrYcx4MCI"
   },
   "source": [
    "# **Tarea de Numpy**\n",
    "\n",
    "Este notebook es el de los ejercicios >:)"
   ]
  },
  {
   "cell_type": "code",
   "execution_count": 14,
   "metadata": {
    "colab": {
     "base_uri": "https://localhost:8080/"
    },
    "executionInfo": {
     "elapsed": 9511,
     "status": "ok",
     "timestamp": 1746659065345,
     "user": {
      "displayName": "David Elias González García",
      "userId": "10354222974665753730"
     },
     "user_tz": 360
    },
    "id": "qxKzpmVP8Lqs",
    "outputId": "7a48480b-7b6b-4905-a165-57dd0860d3c8"
   },
   "outputs": [
    {
     "name": "stdout",
     "output_type": "stream",
     "text": [
      "Defaulting to user installation because normal site-packages is not writeable\n",
      "Requirement already satisfied: numpy in c:\\users\\a s u s\\appdata\\local\\packages\\pythonsoftwarefoundation.python.3.13_qbz5n2kfra8p0\\localcache\\local-packages\\python313\\site-packages (2.2.5)\n",
      "[1 2 3 4 5]\n",
      "3.0\n"
     ]
    }
   ],
   "source": [
    "!pip install numpy\n",
    "import numpy as np\n",
    "\n",
    "# Probando si si jala el numpy\n",
    "my_arreglow = np.array([1, 2, 3, 4, 5]) \n",
    "\n",
    "print(my_arreglow)\n",
    "print(np.mean(my_arreglow))\n"
   ]
  },
  {
   "cell_type": "markdown",
   "metadata": {
    "id": "5bZxvLcH4Twv"
   },
   "source": [
    "## Ejercicios de refuerzo"
   ]
  },
  {
   "cell_type": "markdown",
   "metadata": {
    "id": "0DKnt0XJ4b0j"
   },
   "source": [
    "### **Ejercicio 1 - Crear un array de ceros:**\n",
    "Crea un array de tamaño (3, 4) lleno de ceros."
   ]
  },
  {
   "cell_type": "code",
   "execution_count": 1,
   "metadata": {
    "id": "XpBz8hQx4LD7"
   },
   "outputs": [
    {
     "name": "stdout",
     "output_type": "stream",
     "text": [
      "[[0. 0. 0. 0.]\n",
      " [0. 0. 0. 0.]\n",
      " [0. 0. 0. 0.]]\n"
     ]
    }
   ],
   "source": [
    "# Solución (:\n",
    "\n",
    "import numpy as np\n",
    "\n",
    "array_ceros = np.zeros((3, 4))\n",
    "\n",
    "print(array_ceros)\n",
    "\n"
   ]
  },
  {
   "cell_type": "markdown",
   "metadata": {
    "id": "3LhYSK4M91vQ"
   },
   "source": [
    "### **Ejercicio 2-  Suma de elementos:**\n",
    "   Dado el array [1, 2, 3, 4, 5], calcula la suma de todos sus elementos usando NumPy."
   ]
  },
  {
   "cell_type": "code",
   "execution_count": 2,
   "metadata": {
    "id": "l0s1XSEL98xf"
   },
   "outputs": [
    {
     "name": "stdout",
     "output_type": "stream",
     "text": [
      "La suma da un total de: 15\n"
     ]
    }
   ],
   "source": [
    "# Solucion :)\n",
    "\n",
    "import numpy as np\n",
    "\n",
    "array = np.array([1, 2, 3, 4, 5])\n",
    "\n",
    "suma = np.sum(array)\n",
    "\n",
    "print(\"La suma da un total de:\", suma)"
   ]
  },
  {
   "cell_type": "markdown",
   "metadata": {
    "id": "u1S6J4AI99Ae"
   },
   "source": [
    "### **Ejercicio 3 - Encontrar el máximo y mínimo:**\n",
    "Dado el array [10, 20, 30, 40, 50], encuentra el valor máximo y mínimo."
   ]
  },
  {
   "cell_type": "code",
   "execution_count": 3,
   "metadata": {
    "id": "rU0mZk0h-A0R"
   },
   "outputs": [
    {
     "name": "stdout",
     "output_type": "stream",
     "text": [
      "El valor máximo es: 50\n",
      "El valor mínimo es: 10\n"
     ]
    }
   ],
   "source": [
    "array = np.array([10, 20, 30, 40, 50])\n",
    "\n",
    "# Solución:)\n",
    "\n",
    "import numpy as np\n",
    "\n",
    "valor_maximo = np.max(array)\n",
    "\n",
    "valor_minimo = np.min(array)\n",
    "\n",
    "print(\"El valor máximo es:\", valor_maximo)\n",
    "print(\"El valor mínimo es:\", valor_minimo)"
   ]
  },
  {
   "cell_type": "markdown",
   "metadata": {
    "id": "lACW-PKX-BDd"
   },
   "source": [
    "### **Ejercicio 4 - Encontrar el máximo y mínimo:**\n",
    " Dado el array [10, 20, 30, 40, 50], encuentra el valor máximo y mínimo.\n"
   ]
  },
  {
   "cell_type": "code",
   "execution_count": 4,
   "metadata": {
    "id": "-qHvH7gJ-Ede"
   },
   "outputs": [
    {
     "name": "stdout",
     "output_type": "stream",
     "text": [
      "El valor máximo es: 50\n",
      "El valor mínimo es: 10\n"
     ]
    }
   ],
   "source": [
    "# Solución:)\n",
    "\n",
    "import numpy as np\n",
    "\n",
    "array = np.array([10, 20, 30, 40, 50])\n",
    "\n",
    "valor_maximo = np.max(array)\n",
    "\n",
    "valor_minimo = np.min(array)\n",
    "\n",
    "\n",
    "print(\"El valor máximo es:\", valor_maximo)\n",
    "print(\"El valor mínimo es:\", valor_minimo)"
   ]
  },
  {
   "cell_type": "markdown",
   "metadata": {
    "id": "ZkPxM1Wt-EmM"
   },
   "source": [
    "### **Ejercicio 5 - Generar números aleatorios:**\n",
    "  Genera un array de 5 números aleatorios entre 0 y 1."
   ]
  },
  {
   "cell_type": "code",
   "execution_count": 5,
   "metadata": {
    "id": "PBaN-yAp-Hu0"
   },
   "outputs": [
    {
     "name": "stdout",
     "output_type": "stream",
     "text": [
      "Array números aleatorios: [0.83999671 0.58886062 0.57267973 0.01919352 0.13464365]\n"
     ]
    }
   ],
   "source": [
    "# Solución:)\n",
    "\n",
    "import numpy as np\n",
    "\n",
    "array_aleatorio = np.random.rand(5)\n",
    "\n",
    "print(\"Array números aleatorios:\", array_aleatorio)"
   ]
  },
  {
   "cell_type": "markdown",
   "metadata": {
    "id": "MEDxAgWLAE8Q"
   },
   "source": [
    "### **Ejercicio 6 - Promedio de un array:**\n",
    "Dado el array [5, 10, 15, 20, 25], calcula su promedio usando NumPy."
   ]
  },
  {
   "cell_type": "code",
   "execution_count": 6,
   "metadata": {
    "id": "HjnjecKuAOkN"
   },
   "outputs": [
    {
     "name": "stdout",
     "output_type": "stream",
     "text": [
      "Promedio del array: 15.0\n"
     ]
    }
   ],
   "source": [
    "#Solucion:)\n",
    "\n",
    "import numpy as np\n",
    "\n",
    "array = np.array([5, 10, 15, 20, 25])\n",
    "\n",
    "promedio = np.mean(array)\n",
    "\n",
    "print(\"Promedio del array:\", promedio)"
   ]
  },
  {
   "cell_type": "markdown",
   "metadata": {
    "id": "Z93kn0htAPZb"
   },
   "source": [
    "### **Ejercicio 7 - Concatenar dos arrays**\n",
    "Dados los arrays A = [1, 2, 3] y B = [4, 5, 6], concaténalos en un solo array."
   ]
  },
  {
   "cell_type": "code",
   "execution_count": 7,
   "metadata": {
    "id": "NzldaS9RAS45"
   },
   "outputs": [
    {
     "name": "stdout",
     "output_type": "stream",
     "text": [
      "Array concatenado: [1 2 3 4 5 6]\n"
     ]
    }
   ],
   "source": [
    "#Solucion:)\n",
    "\n",
    "import numpy as np\n",
    "\n",
    "A = np.array([1, 2, 3])\n",
    "B = np.array([4, 5, 6])\n",
    "\n",
    "array_concatenado = np.concatenate((A, B))\n",
    "\n",
    "print(\"Array concatenado:\", array_concatenado)"
   ]
  },
  {
   "cell_type": "markdown",
   "metadata": {
    "id": "bvTCzzFjAevg"
   },
   "source": [
    "### **Ejercicio 8 - Reshape de un Array**\n",
    "Dado el array [1, 2, 3, 4, 5, 6], cámbialo a una matriz de 2x3."
   ]
  },
  {
   "cell_type": "code",
   "execution_count": 8,
   "metadata": {
    "id": "0hfE1QUMAhB3"
   },
   "outputs": [
    {
     "name": "stdout",
     "output_type": "stream",
     "text": [
      "Matriz 2x3:\n",
      "[[1 2 3]\n",
      " [4 5 6]]\n"
     ]
    }
   ],
   "source": [
    "#Solución:)\n",
    "\n",
    "import numpy as np\n",
    "\n",
    "array = np.array([1, 2, 3, 4, 5, 6])\n",
    "\n",
    "matriz = np.reshape(array, (2, 3))\n",
    "\n",
    "print(\"Matriz 2x3:\")\n",
    "print(matriz)"
   ]
  },
  {
   "cell_type": "markdown",
   "metadata": {
    "id": "By9zMuMyYMNA"
   },
   "source": [
    "### **Ejercicio 9 - Producto punto (dot product):**\n",
    "Dados dos arrays A = [1, 2, 3] y B = [4, 5, 6], calcula su producto punto"
   ]
  },
  {
   "cell_type": "code",
   "execution_count": 9,
   "metadata": {
    "id": "Vj-94PgAhpmk"
   },
   "outputs": [
    {
     "name": "stdout",
     "output_type": "stream",
     "text": [
      "El producto punto es: 32\n"
     ]
    }
   ],
   "source": [
    "#Solución:)\n",
    "\n",
    "import numpy as np\n",
    "\n",
    "A = np.array([1, 2, 3])\n",
    "B = np.array([4, 5, 6])\n",
    "\n",
    "producto_punto = np.dot(A, B)\n",
    "\n",
    "print(\"El producto punto es:\", producto_punto)"
   ]
  },
  {
   "cell_type": "markdown",
   "metadata": {
    "id": "Z0UxB4reh4LU"
   },
   "source": [
    "### **Ejercicio 10 - Reorganizar un array:**\n",
    "Dado el array [1, 2, 3, 4, 5, 6, 7, 8, 9, 10], conviértelo en una matriz (2, 5)."
   ]
  },
  {
   "cell_type": "code",
   "execution_count": 11,
   "metadata": {
    "id": "GkjKd3SLh6Sf"
   },
   "outputs": [
    {
     "name": "stdout",
     "output_type": "stream",
     "text": [
      "Matriz 2x5:\n",
      "[[ 1  2  3  4  5]\n",
      " [ 6  7  8  9 10]]\n"
     ]
    }
   ],
   "source": [
    "#Solución:)\n",
    "\n",
    "import numpy as np\n",
    "\n",
    "array = np.array([1, 2, 3, 4, 5, 6, 7, 8, 9, 10])\n",
    "\n",
    "matriz = array.reshape(2, 5)\n",
    "\n",
    "print(\"Matriz 2x5:\")\n",
    "print(matriz)\n"
   ]
  },
  {
   "cell_type": "markdown",
   "metadata": {
    "id": "MpTGrPV5iE1Z"
   },
   "source": [
    "### **Ejercicio extra - Encontrar el *k*-ésimo elemento más pequeño en un array**\n",
    "Dado arr = np.array([9, 3, 6, 2, 1, 7]), encuentra el 3er elemento más pequeño sin ordenar el array completo.\n",
    "\n",
    "**Pista solución 1**: Se puede hacer con un método de Numpy\n",
    "\n",
    "**Pista solución 2**: El código se hace más complicado, pero se puede resolver con ciclos iterativos."
   ]
  },
  {
   "cell_type": "code",
   "execution_count": null,
   "metadata": {
    "id": "OYaMOW-jiLlX"
   },
   "outputs": [
    {
     "name": "stdout",
     "output_type": "stream",
     "text": [
      "El 3er elemento más pequeño es: 3\n"
     ]
    }
   ],
   "source": [
    "#Solucion :o\n",
    "arr = np.array([9, 3, 6, 2, 1, 7])\n",
    "\n",
    "import numpy as np\n",
    "\n",
    "# Encontramos el 3 elemento más pequeño k=3\n",
    "k = 3\n",
    "k_esimo_menor = np.partition(arr, k-1)[k-1] # divide en dos partes sin ordenarlos\n",
    "\n",
    "\n",
    "print(f\"El {k}er elemento más pequeño es:\", k_esimo_menor)"
   ]
  },
  {
   "cell_type": "markdown",
   "metadata": {
    "id": "Unyrp8HOCtMh"
   },
   "source": [
    "## **Ejercicios aplicados**"
   ]
  },
  {
   "cell_type": "markdown",
   "metadata": {
    "id": "K1CPCb12GeCz"
   },
   "source": [
    "### **Ejercicio: Cálculo de ROI (Retorno de Inversión)**\n",
    "Dadas las inversiones ([1000, 1500, 2000]) y sus retornos ([1200, 1650, 1800]), calcula el ROI porcentual para cada caso.\n",
    "\n",
    "*(Fórmula: ROI = (retorno - inversión) / inversión * 100)*"
   ]
  },
  {
   "cell_type": "code",
   "execution_count": 26,
   "metadata": {
    "id": "6Eo-aN8bCwg1"
   },
   "outputs": [],
   "source": [
    "# Solucion del ROIROIROIROIORIORI\n"
   ]
  },
  {
   "cell_type": "markdown",
   "metadata": {
    "id": "3CfyZVv4GksC"
   },
   "source": [
    "### **Ejercicio: Normalización de Datos**\n",
    "Tienes un dataset de precios de productos (en USD): [250, 320, 150, 500, 210]. Normaliza los valores al rango [0, 1] para compararlos en una escala común.\n",
    "\n",
    "**Formulita de la normalización**: (x - min) / (max - min): Para una escala valores entre 0 y 1."
   ]
  },
  {
   "cell_type": "code",
   "execution_count": null,
   "metadata": {
    "id": "afTic4_JGxAy"
   },
   "outputs": [],
   "source": []
  },
  {
   "cell_type": "markdown",
   "metadata": {
    "id": "Px7Pdn7xHBAR"
   },
   "source": [
    "### **Ejercicio: Filtrado de Datos**\n",
    "En un array de ventas diarias ([1200, 0, 750, 2400, 0, 1800]), reemplaza los ceros (días sin ventas) por el promedio de los días con ventas."
   ]
  },
  {
   "cell_type": "code",
   "execution_count": null,
   "metadata": {
    "id": "rqwubxX-HFBX"
   },
   "outputs": [],
   "source": []
  },
  {
   "cell_type": "markdown",
   "metadata": {
    "id": "dKK2wBEEdqzt"
   },
   "source": [
    "### **Ejercicio - Análisis de Presión Arterial**\n",
    "Tenemos un dataset de mediciones de presión arterial sistólica (mmHg) de 10 pacientes:\n",
    "[120, 135, 140, 118, 150, 130, 160, 125, 142, 128].\n",
    "\n",
    "Calculen:\n",
    "- Media y desviación estándar.\n",
    "- Identifiquen valores fuera del rango normal (90–140 mmHg)."
   ]
  },
  {
   "cell_type": "code",
   "execution_count": null,
   "metadata": {
    "id": "RkYj4KJud0uu"
   },
   "outputs": [],
   "source": []
  },
  {
   "cell_type": "markdown",
   "metadata": {
    "id": "ltzE201veNyz"
   },
   "source": [
    "### **Ejercicio - Cálculo del PIB per Cápita**\n",
    "Dados el PIB (en millones de USD) [500, 320, 700, 450] y la población (en millones) [10, 8, 12, 9] de 4 países, calculen el PIB per cápita y determinen el país con el mayor valor."
   ]
  },
  {
   "cell_type": "code",
   "execution_count": null,
   "metadata": {
    "id": "TMl-OWMpeOcP"
   },
   "outputs": [],
   "source": []
  },
  {
   "cell_type": "markdown",
   "metadata": {
    "id": "7AP-dS9HgAO9"
   },
   "source": [
    "### **Ejercicio - Sistema de Drops (Probabilidades)**\n",
    "En un videojuego RPG, los enemigos al ser vencidos, pueden dropear (soltar):\n",
    "- 0 = Nada (50%).\n",
    "- 1 = Poción (30%).\n",
    "- 2 = Arma (15%).\n",
    "- 3 = Artefacto (5%).\n",
    "\n",
    "Simula 100 drops y cuenta cuántos artefactos se obtuvieron.\n",
    "\n",
    "*Ejemplo de salida*:\n",
    "\n",
    "```\n",
    "Artifactos obtenidos: 3\n",
    "```\n",
    "\n"
   ]
  },
  {
   "cell_type": "code",
   "execution_count": null,
   "metadata": {
    "id": "828OGOwUgPBV"
   },
   "outputs": [],
   "source": []
  }
 ],
 "metadata": {
  "colab": {
   "provenance": []
  },
  "kernelspec": {
   "display_name": "venv",
   "language": "python",
   "name": "python3"
  },
  "language_info": {
   "codemirror_mode": {
    "name": "ipython",
    "version": 3
   },
   "file_extension": ".py",
   "mimetype": "text/x-python",
   "name": "python",
   "nbconvert_exporter": "python",
   "pygments_lexer": "ipython3",
   "version": "3.13.3"
  }
 },
 "nbformat": 4,
 "nbformat_minor": 0
}
