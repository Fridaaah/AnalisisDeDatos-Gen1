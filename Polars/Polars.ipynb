{
 "cells": [
  {
   "cell_type": "markdown",
   "id": "5f5dc7cc",
   "metadata": {},
   "source": [
    "# Polars"
   ]
  },
  {
   "cell_type": "code",
   "execution_count": 4,
   "id": "eed7622d",
   "metadata": {},
   "outputs": [],
   "source": [
    "import polars as pl "
   ]
  },
  {
   "cell_type": "markdown",
   "id": "782c9649",
   "metadata": {},
   "source": [
    "## Series"
   ]
  },
  {
   "cell_type": "code",
   "execution_count": 7,
   "id": "24a24c85",
   "metadata": {},
   "outputs": [
    {
     "data": {
      "text/html": [
       "<div><style>\n",
       ".dataframe > thead > tr,\n",
       ".dataframe > tbody > tr {\n",
       "  text-align: right;\n",
       "  white-space: pre-wrap;\n",
       "}\n",
       "</style>\n",
       "<small>shape: (5,)</small><table border=\"1\" class=\"dataframe\"><thead><tr><th>mi_serie</th></tr><tr><td>i64</td></tr></thead><tbody><tr><td>1</td></tr><tr><td>2</td></tr><tr><td>3</td></tr><tr><td>4</td></tr><tr><td>5</td></tr></tbody></table></div>"
      ],
      "text/plain": [
       "shape: (5,)\n",
       "Series: 'mi_serie' [i64]\n",
       "[\n",
       "\t1\n",
       "\t2\n",
       "\t3\n",
       "\t4\n",
       "\t5\n",
       "]"
      ]
     },
     "execution_count": 7,
     "metadata": {},
     "output_type": "execute_result"
    }
   ],
   "source": [
    "serie = pl.Series(\n",
    "    name=\"mi_serie\",\n",
    "    values=[1, 2, 3, 4, 5],\n",
    "    )\n",
    "serie "
   ]
  },
  {
   "cell_type": "markdown",
   "id": "c6ccf917",
   "metadata": {},
   "source": [
    "## Operaciones con serie"
   ]
  },
  {
   "cell_type": "code",
   "execution_count": 9,
   "id": "d64e096f",
   "metadata": {},
   "outputs": [
    {
     "name": "stdout",
     "output_type": "stream",
     "text": [
      "shape: (2,)\n",
      "Series: 'mi_serie' [i64]\n",
      "[\n",
      "\t4\n",
      "\t5\n",
      "]\n",
      "shape: (1,)\n",
      "Series: 'mi_serie' [i64]\n",
      "[\n",
      "\t1\n",
      "]\n",
      "El valor maximo es: 5\n"
     ]
    }
   ],
   "source": [
    "print(\n",
    "   serie.filter(\n",
    "    serie > 3\n",
    "  )\n",
    ")\n",
    "\n",
    "print(\n",
    "   serie.filter(\n",
    "    serie < 2\n",
    "  )\n",
    ")\n",
    "\n",
    "print(f\"El valor maximo es: {serie.max()}\") "
   ]
  },
  {
   "cell_type": "markdown",
   "id": "bf58e6b9",
   "metadata": {},
   "source": [
    "## Dataframe"
   ]
  },
  {
   "cell_type": "code",
   "execution_count": null,
   "id": "b80131dc",
   "metadata": {},
   "outputs": [
    {
     "data": {
      "text/html": [
       "<div><style>\n",
       ".dataframe > thead > tr,\n",
       ".dataframe > tbody > tr {\n",
       "  text-align: right;\n",
       "  white-space: pre-wrap;\n",
       "}\n",
       "</style>\n",
       "<small>shape: (4, 4)</small><table border=\"1\" class=\"dataframe\"><thead><tr><th>Pokemon</th><th>Tipo 1</th><th>Tipo 2</th><th>HP</th></tr><tr><td>str</td><td>str</td><td>str</td><td>i32</td></tr></thead><tbody><tr><td>&quot;Pikachu&quot;</td><td>&quot;Electrico&quot;</td><td>null</td><td>35</td></tr><tr><td>&quot;Charmander&quot;</td><td>&quot;Fuego&quot;</td><td>null</td><td>39</td></tr><tr><td>&quot;Squirtle&quot;</td><td>&quot;Agua&quot;</td><td>null</td><td>44</td></tr><tr><td>&quot;Bulbasaur&quot;</td><td>&quot;Planta&quot;</td><td>null</td><td>45</td></tr></tbody></table></div>"
      ],
      "text/plain": [
       "shape: (4, 4)\n",
       "┌────────────┬───────────┬────────┬─────┐\n",
       "│ Pokemon    ┆ Tipo 1    ┆ Tipo 2 ┆ HP  │\n",
       "│ ---        ┆ ---       ┆ ---    ┆ --- │\n",
       "│ str        ┆ str       ┆ str    ┆ i32 │\n",
       "╞════════════╪═══════════╪════════╪═════╡\n",
       "│ Pikachu    ┆ Electrico ┆ null   ┆ 35  │\n",
       "│ Charmander ┆ Fuego     ┆ null   ┆ 39  │\n",
       "│ Squirtle   ┆ Agua      ┆ null   ┆ 44  │\n",
       "│ Bulbasaur  ┆ Planta    ┆ null   ┆ 45  │\n",
       "└────────────┴───────────┴────────┴─────┘"
      ]
     },
     "execution_count": 14,
     "metadata": {},
     "output_type": "execute_result"
    }
   ],
   "source": [
    "df = pl.DataFrame(\n",
    "    {\n",
    "        \"Pokemon\": [\"Pikachu\", \"Charmander\", \"Squirtle\", \"Bulbasaur\"],\n",
    "        \"Tipo 1\": [\"Electrico\", \"Fuego\", \"Agua\", \"Planta\"],\n",
    "        \"Tipo 2\": [None, None, None, \"Veneno\"],\n",
    "        \"HP\": [35, 39, 44, 45], \n",
    "    },\n",
    "    schema = {\n",
    "        \"Pokemon\": pl.Utf8,\n",
    "        \"Tipo 1\": pl.Utf8,\n",
    "        \"Tipo 2\": pl.Utf8,\n",
    "        \"HP\": pl.Int32,\n",
    "    }\n",
    "    )\n",
    "df"
   ]
  },
  {
   "cell_type": "code",
   "execution_count": 15,
   "id": "ab5e86a9",
   "metadata": {},
   "outputs": [
    {
     "data": {
      "text/html": [
       "<div><style>\n",
       ".dataframe > thead > tr,\n",
       ".dataframe > tbody > tr {\n",
       "  text-align: right;\n",
       "  white-space: pre-wrap;\n",
       "}\n",
       "</style>\n",
       "<small>shape: (4, 4)</small><table border=\"1\" class=\"dataframe\"><thead><tr><th>Pokemon</th><th>Tipo 1</th><th>Tipo 2</th><th>HP</th></tr><tr><td>str</td><td>str</td><td>str</td><td>i32</td></tr></thead><tbody><tr><td>&quot;Pikachu&quot;</td><td>&quot;Electrico&quot;</td><td>null</td><td>0</td></tr><tr><td>&quot;Charmander&quot;</td><td>&quot;Fuego&quot;</td><td>null</td><td>4</td></tr><tr><td>&quot;Squirtle&quot;</td><td>&quot;Agua&quot;</td><td>null</td><td>9</td></tr><tr><td>&quot;Bulbasaur&quot;</td><td>&quot;Planta&quot;</td><td>null</td><td>10</td></tr></tbody></table></div>"
      ],
      "text/plain": [
       "shape: (4, 4)\n",
       "┌────────────┬───────────┬────────┬─────┐\n",
       "│ Pokemon    ┆ Tipo 1    ┆ Tipo 2 ┆ HP  │\n",
       "│ ---        ┆ ---       ┆ ---    ┆ --- │\n",
       "│ str        ┆ str       ┆ str    ┆ i32 │\n",
       "╞════════════╪═══════════╪════════╪═════╡\n",
       "│ Pikachu    ┆ Electrico ┆ null   ┆ 0   │\n",
       "│ Charmander ┆ Fuego     ┆ null   ┆ 4   │\n",
       "│ Squirtle   ┆ Agua      ┆ null   ┆ 9   │\n",
       "│ Bulbasaur  ┆ Planta    ┆ null   ┆ 10  │\n",
       "└────────────┴───────────┴────────┴─────┘"
      ]
     },
     "execution_count": 15,
     "metadata": {},
     "output_type": "execute_result"
    }
   ],
   "source": [
    "df = df.with_columns(\n",
    "    pl.col(\"HP\") - 35\n",
    ")\n",
    "df"
   ]
  },
  {
   "cell_type": "code",
   "execution_count": 18,
   "id": "7cdeec0e",
   "metadata": {},
   "outputs": [
    {
     "data": {
      "text/html": [
       "<div><style>\n",
       ".dataframe > thead > tr,\n",
       ".dataframe > tbody > tr {\n",
       "  text-align: right;\n",
       "  white-space: pre-wrap;\n",
       "}\n",
       "</style>\n",
       "<small>shape: (4, 6)</small><table border=\"1\" class=\"dataframe\"><thead><tr><th>Pokemon</th><th>Tipo 1</th><th>Tipo 2</th><th>HP</th><th>Es mascota</th><th>Estado</th></tr><tr><td>str</td><td>str</td><td>str</td><td>i32</td><td>bool</td><td>str</td></tr></thead><tbody><tr><td>&quot;Pikachu&quot;</td><td>&quot;Electrico&quot;</td><td>null</td><td>0</td><td>true</td><td>&quot;Muerto&quot;</td></tr><tr><td>&quot;Charmander&quot;</td><td>&quot;Fuego&quot;</td><td>null</td><td>4</td><td>false</td><td>&quot;Vivo&quot;</td></tr><tr><td>&quot;Squirtle&quot;</td><td>&quot;Agua&quot;</td><td>null</td><td>9</td><td>false</td><td>&quot;Vivo&quot;</td></tr><tr><td>&quot;Bulbasaur&quot;</td><td>&quot;Planta&quot;</td><td>null</td><td>10</td><td>false</td><td>&quot;Vivo&quot;</td></tr></tbody></table></div>"
      ],
      "text/plain": [
       "shape: (4, 6)\n",
       "┌────────────┬───────────┬────────┬─────┬────────────┬────────┐\n",
       "│ Pokemon    ┆ Tipo 1    ┆ Tipo 2 ┆ HP  ┆ Es mascota ┆ Estado │\n",
       "│ ---        ┆ ---       ┆ ---    ┆ --- ┆ ---        ┆ ---    │\n",
       "│ str        ┆ str       ┆ str    ┆ i32 ┆ bool       ┆ str    │\n",
       "╞════════════╪═══════════╪════════╪═════╪════════════╪════════╡\n",
       "│ Pikachu    ┆ Electrico ┆ null   ┆ 0   ┆ true       ┆ Muerto │\n",
       "│ Charmander ┆ Fuego     ┆ null   ┆ 4   ┆ false      ┆ Vivo   │\n",
       "│ Squirtle   ┆ Agua      ┆ null   ┆ 9   ┆ false      ┆ Vivo   │\n",
       "│ Bulbasaur  ┆ Planta    ┆ null   ┆ 10  ┆ false      ┆ Vivo   │\n",
       "└────────────┴───────────┴────────┴─────┴────────────┴────────┘"
      ]
     },
     "execution_count": 18,
     "metadata": {},
     "output_type": "execute_result"
    }
   ],
   "source": [
    "df = df.with_columns(\n",
    "    pl.when(\n",
    "        pl.col(\"HP\") > 0\n",
    "    ).then(\n",
    "    pl.lit(\"Vivo\")\n",
    "    ).otherwise(\n",
    "    pl.lit(\"Muerto\")\n",
    "    ).alias(\"Estado\")\n",
    ")\n",
    "df "
   ]
  },
  {
   "cell_type": "code",
   "execution_count": 19,
   "id": "0a20f4a5",
   "metadata": {},
   "outputs": [
    {
     "data": {
      "text/html": [
       "<div><style>\n",
       ".dataframe > thead > tr,\n",
       ".dataframe > tbody > tr {\n",
       "  text-align: right;\n",
       "  white-space: pre-wrap;\n",
       "}\n",
       "</style>\n",
       "<small>shape: (4, 6)</small><table border=\"1\" class=\"dataframe\"><thead><tr><th>Pokemon</th><th>Tipo 1</th><th>Tipo 2</th><th>HP</th><th>Es mascota</th><th>Estado</th></tr><tr><td>str</td><td>str</td><td>str</td><td>i32</td><td>bool</td><td>str</td></tr></thead><tbody><tr><td>&quot;Pikachu&quot;</td><td>&quot;Electrico&quot;</td><td>null</td><td>0</td><td>true</td><td>&quot;Muerto&quot;</td></tr><tr><td>&quot;Charmander&quot;</td><td>&quot;Fuego&quot;</td><td>null</td><td>4</td><td>false</td><td>&quot;Vivo&quot;</td></tr><tr><td>&quot;Squirtle&quot;</td><td>&quot;Agua&quot;</td><td>null</td><td>9</td><td>false</td><td>&quot;Vivo&quot;</td></tr><tr><td>&quot;Bulbasaur&quot;</td><td>&quot;Planta&quot;</td><td>null</td><td>10</td><td>false</td><td>&quot;Vivo&quot;</td></tr></tbody></table></div>"
      ],
      "text/plain": [
       "shape: (4, 6)\n",
       "┌────────────┬───────────┬────────┬─────┬────────────┬────────┐\n",
       "│ Pokemon    ┆ Tipo 1    ┆ Tipo 2 ┆ HP  ┆ Es mascota ┆ Estado │\n",
       "│ ---        ┆ ---       ┆ ---    ┆ --- ┆ ---        ┆ ---    │\n",
       "│ str        ┆ str       ┆ str    ┆ i32 ┆ bool       ┆ str    │\n",
       "╞════════════╪═══════════╪════════╪═════╪════════════╪════════╡\n",
       "│ Pikachu    ┆ Electrico ┆ null   ┆ 0   ┆ true       ┆ Muerto │\n",
       "│ Charmander ┆ Fuego     ┆ null   ┆ 4   ┆ false      ┆ Vivo   │\n",
       "│ Squirtle   ┆ Agua      ┆ null   ┆ 9   ┆ false      ┆ Vivo   │\n",
       "│ Bulbasaur  ┆ Planta    ┆ null   ┆ 10  ┆ false      ┆ Vivo   │\n",
       "└────────────┴───────────┴────────┴─────┴────────────┴────────┘"
      ]
     },
     "execution_count": 19,
     "metadata": {},
     "output_type": "execute_result"
    }
   ],
   "source": [
    "df = df.with_columns(\n",
    "    pl.when(\n",
    "        pl.col(\"Pokemon\") == \"Pikachu\"\n",
    "    ).then(\n",
    "        pl.lit(True)\n",
    "    ).otherwise(\n",
    "        pl.lit(False)\n",
    "    ).alias(\"Es mascota\")   \n",
    ")\n",
    "df\n",
    "    "
   ]
  },
  {
   "cell_type": "markdown",
   "id": "0a25df4c",
   "metadata": {},
   "source": [
    "## Filtrado"
   ]
  },
  {
   "cell_type": "code",
   "execution_count": 23,
   "id": "c46b6c94",
   "metadata": {},
   "outputs": [
    {
     "data": {
      "text/html": [
       "<div><style>\n",
       ".dataframe > thead > tr,\n",
       ".dataframe > tbody > tr {\n",
       "  text-align: right;\n",
       "  white-space: pre-wrap;\n",
       "}\n",
       "</style>\n",
       "<small>shape: (2, 6)</small><table border=\"1\" class=\"dataframe\"><thead><tr><th>Pokemon</th><th>Tipo 1</th><th>Tipo 2</th><th>HP</th><th>Es mascota</th><th>Estado</th></tr><tr><td>str</td><td>str</td><td>str</td><td>i32</td><td>bool</td><td>str</td></tr></thead><tbody><tr><td>&quot;Squirtle&quot;</td><td>&quot;Agua&quot;</td><td>null</td><td>9</td><td>false</td><td>&quot;Vivo&quot;</td></tr><tr><td>&quot;Bulbasaur&quot;</td><td>&quot;Planta&quot;</td><td>null</td><td>10</td><td>false</td><td>&quot;Vivo&quot;</td></tr></tbody></table></div>"
      ],
      "text/plain": [
       "shape: (2, 6)\n",
       "┌───────────┬────────┬────────┬─────┬────────────┬────────┐\n",
       "│ Pokemon   ┆ Tipo 1 ┆ Tipo 2 ┆ HP  ┆ Es mascota ┆ Estado │\n",
       "│ ---       ┆ ---    ┆ ---    ┆ --- ┆ ---        ┆ ---    │\n",
       "│ str       ┆ str    ┆ str    ┆ i32 ┆ bool       ┆ str    │\n",
       "╞═══════════╪════════╪════════╪═════╪════════════╪════════╡\n",
       "│ Squirtle  ┆ Agua   ┆ null   ┆ 9   ┆ false      ┆ Vivo   │\n",
       "│ Bulbasaur ┆ Planta ┆ null   ┆ 10  ┆ false      ┆ Vivo   │\n",
       "└───────────┴────────┴────────┴─────┴────────────┴────────┘"
      ]
     },
     "execution_count": 23,
     "metadata": {},
     "output_type": "execute_result"
    }
   ],
   "source": [
    "## Ver que pokemones tiene mas de 5 HP\n",
    "df.filter(\n",
    "    pl.col(\"HP\") > 5\n",
    ")"
   ]
  },
  {
   "cell_type": "code",
   "execution_count": 24,
   "id": "a6024bb4",
   "metadata": {},
   "outputs": [
    {
     "name": "stdout",
     "output_type": "stream",
     "text": [
      "shape: (5, 4)\n",
      "┌─────┬─────┬──────┬──────────┐\n",
      "│ a   ┆ b   ┆ suma ┆ log_b    │\n",
      "│ --- ┆ --- ┆ ---  ┆ ---      │\n",
      "│ i64 ┆ i64 ┆ i64  ┆ f64      │\n",
      "╞═════╪═════╪══════╪══════════╡\n",
      "│ 1   ┆ 5   ┆ 6    ┆ 1.609438 │\n",
      "│ 2   ┆ 4   ┆ 6    ┆ 1.386294 │\n",
      "│ 3   ┆ 3   ┆ 6    ┆ 1.098612 │\n",
      "│ 4   ┆ 2   ┆ 6    ┆ 0.693147 │\n",
      "│ 5   ┆ 1   ┆ 6    ┆ 0.0      │\n",
      "└─────┴─────┴──────┴──────────┘\n",
      "[[3.]]\n"
     ]
    }
   ],
   "source": [
    "df = pl.DataFrame({\n",
    "    \"a\": [1, 2, 3, 4, 5],\n",
    "    \"b\": [5, 4, 3, 2, 1],\n",
    "})\n",
    "\n",
    "# Operaciones aritméticas (suma de columnas)\n",
    "df = df.with_columns(\n",
    "    (pl.col(\"a\") + pl.col(\"b\")).alias(\"suma\")\n",
    ")\n",
    "\n",
    "# Transformación: nueva columna con el logaritmo de \"b\"\n",
    "df = df.with_columns(pl.col(\"b\").log().alias(\"log_b\"))\n",
    "\n",
    "# Operación estadística (media de la columna \"a\")\n",
    "mean_a = df.select(pl.col(\"a\").mean()).to_numpy()\n",
    "\n",
    "print(df)\n",
    "print(mean_a)"
   ]
  },
  {
   "cell_type": "markdown",
   "id": "90c3c815",
   "metadata": {},
   "source": [
    "## LazyFrames"
   ]
  },
  {
   "cell_type": "code",
   "execution_count": 25,
   "id": "a2b8eb5a",
   "metadata": {},
   "outputs": [
    {
     "data": {
      "text/html": [
       "<div><style>\n",
       ".dataframe > thead > tr,\n",
       ".dataframe > tbody > tr {\n",
       "  text-align: right;\n",
       "  white-space: pre-wrap;\n",
       "}\n",
       "</style>\n",
       "<small>shape: (3, 3)</small><table border=\"1\" class=\"dataframe\"><thead><tr><th>a</th><th>b</th><th>suma</th></tr><tr><td>i64</td><td>i64</td><td>i64</td></tr></thead><tbody><tr><td>3</td><td>3</td><td>6</td></tr><tr><td>4</td><td>2</td><td>6</td></tr><tr><td>5</td><td>1</td><td>6</td></tr></tbody></table></div>"
      ],
      "text/plain": [
       "shape: (3, 3)\n",
       "┌─────┬─────┬──────┐\n",
       "│ a   ┆ b   ┆ suma │\n",
       "│ --- ┆ --- ┆ ---  │\n",
       "│ i64 ┆ i64 ┆ i64  │\n",
       "╞═════╪═════╪══════╡\n",
       "│ 3   ┆ 3   ┆ 6    │\n",
       "│ 4   ┆ 2   ┆ 6    │\n",
       "│ 5   ┆ 1   ┆ 6    │\n",
       "└─────┴─────┴──────┘"
      ]
     },
     "execution_count": 25,
     "metadata": {},
     "output_type": "execute_result"
    }
   ],
   "source": [
    "# Crear un DataFrame en modo perezoso\n",
    "df_lazy = pl.DataFrame({\n",
    "   \"a\": [1, 2, 3, 4, 5],\n",
    "   \"b\": [5, 4, 3, 2, 1]\n",
    "}).lazy()\n",
    "\n",
    "# Aplicar transformaciones (sin ejecutar aún)\n",
    "df_transformed = df_lazy.filter(\n",
    "    pl.col(\"a\") > 2\n",
    ").with_columns(\n",
    "    (pl.col(\"a\") + pl.col(\"b\")).alias(\"suma\")\n",
    ")\n",
    "\n",
    "# Al invocar collect(), las transformaciones se ejecutan\n",
    "result = df_transformed\n",
    "\n",
    "# Crear resultados\n",
    "df_final = result.collect()\n",
    "df_final"
   ]
  },
  {
   "cell_type": "code",
   "execution_count": 26,
   "id": "9a304230",
   "metadata": {},
   "outputs": [
    {
     "data": {
      "text/html": [
       "<div><style>\n",
       ".dataframe > thead > tr,\n",
       ".dataframe > tbody > tr {\n",
       "  text-align: right;\n",
       "  white-space: pre-wrap;\n",
       "}\n",
       "</style>\n",
       "<small>shape: (3, 3)</small><table border=\"1\" class=\"dataframe\"><thead><tr><th>x</th><th>y</th><th>multiplicacion</th></tr><tr><td>i64</td><td>i64</td><td>i64</td></tr></thead><tbody><tr><td>3</td><td>8</td><td>24</td></tr><tr><td>4</td><td>9</td><td>36</td></tr><tr><td>5</td><td>10</td><td>50</td></tr></tbody></table></div>"
      ],
      "text/plain": [
       "shape: (3, 3)\n",
       "┌─────┬─────┬────────────────┐\n",
       "│ x   ┆ y   ┆ multiplicacion │\n",
       "│ --- ┆ --- ┆ ---            │\n",
       "│ i64 ┆ i64 ┆ i64            │\n",
       "╞═════╪═════╪════════════════╡\n",
       "│ 3   ┆ 8   ┆ 24             │\n",
       "│ 4   ┆ 9   ┆ 36             │\n",
       "│ 5   ┆ 10  ┆ 50             │\n",
       "└─────┴─────┴────────────────┘"
      ]
     },
     "execution_count": 26,
     "metadata": {},
     "output_type": "execute_result"
    }
   ],
   "source": [
    "# Crear un DataFrame en modo perezoso\n",
    "df_lazy = pl.DataFrame({\n",
    "   \"x\": [1, 2, 3, 4, 5],\n",
    "   \"y\": [6, 7, 8, 9, 10]\n",
    "}).lazy()\n",
    "\n",
    "# Aplicar operaciones: filtrar y agregar columnas\n",
    "df_result = df_lazy.filter(\n",
    "    pl.col(\"x\") > 2\n",
    ").with_columns(\n",
    "    (pl.col(\"x\") * pl.col(\"y\")).alias(\"multiplicacion\")\n",
    ")  # Multiplica las columnas 'x' y 'y'\n",
    "\n",
    "# Ejecutar operaciones solo al llamar a collect()\n",
    "df_result = df_result.collect()\n",
    "df_result"
   ]
  },
  {
   "cell_type": "code",
   "execution_count": 27,
   "id": "2016d90b",
   "metadata": {},
   "outputs": [
    {
     "name": "stdout",
     "output_type": "stream",
     "text": [
      "shape: (3, 3)\n",
      "┌────────┬───────────────────┬───────┐\n",
      "│ nombre ┆ promedio_ingresos ┆ IVA   │\n",
      "│ ---    ┆ ---               ┆ ---   │\n",
      "│ str    ┆ f64               ┆ f64   │\n",
      "╞════════╪═══════════════════╪═══════╡\n",
      "│ Luis   ┆ 4333.333333       ┆ 480.0 │\n",
      "│ Carlos ┆ 4333.333333       ┆ 640.0 │\n",
      "│ José   ┆ 4333.333333       ┆ 960.0 │\n",
      "└────────┴───────────────────┴───────┘\n"
     ]
    }
   ],
   "source": [
    "# Crear un DataFrame con más columnas\n",
    "df_lazy = pl.DataFrame({\n",
    "   \"nombre\": [\"Ana\", \"Luis\", \"Carlos\", \"Marta\", \"José\"],\n",
    "   \"edad\": [23, 34, 45, 28, 60],\n",
    "   \"ingresos_brutos\": [2000, 3000, 4000, 5000, 6000]\n",
    "}).lazy()\n",
    "\n",
    "df_result = df_lazy.filter(\n",
    "    pl.col(\"edad\") > 30\n",
    ").select(\n",
    "    [\n",
    "        pl.col(\"nombre\"), \n",
    "        pl.col(\"ingresos_brutos\").mean().alias(\"promedio_ingresos\"),\n",
    "        (pl.col(\"ingresos_brutos\") * 0.16).alias(\"IVA\")\n",
    "    ]\n",
    ")\n",
    "df_result = df_result.collect()\n",
    "print(df_result)"
   ]
  }
 ],
 "metadata": {
  "kernelspec": {
   "display_name": "venv",
   "language": "python",
   "name": "python3"
  },
  "language_info": {
   "codemirror_mode": {
    "name": "ipython",
    "version": 3
   },
   "file_extension": ".py",
   "mimetype": "text/x-python",
   "name": "python",
   "nbconvert_exporter": "python",
   "pygments_lexer": "ipython3",
   "version": "3.13.3"
  }
 },
 "nbformat": 4,
 "nbformat_minor": 5
}
